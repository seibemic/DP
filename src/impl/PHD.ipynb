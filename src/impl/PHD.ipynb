{
 "cells": [
  {
   "cell_type": "code",
   "execution_count": null,
   "id": "initial_id",
   "metadata": {
    "is_executing": true
   },
   "outputs": [],
   "source": [
    "import numpy as np\n",
    "import torch\n",
    "import sys\n",
    "sys.path.append(\"../..\")\n",
    "from src.impl.Video_MTT_Manager import VideoMTT\n",
    "from src.impl.MTT.PHD.PHD_tracker import PHDTracker\n",
    "from src.impl.Frame_Processing import FrameProcessing\n",
    "import warnings\n",
    "warnings.filterwarnings(\"ignore\")"
   ]
  },
  {
   "cell_type": "code",
   "execution_count": null,
   "id": "f530e6bec794959b",
   "metadata": {
    "ExecuteTime": {
     "start_time": "2024-04-28T19:52:15.580146013Z"
    },
    "is_executing": true
   },
   "outputs": [],
   "source": [
    "dt = 1/25*25\n",
    "\n",
    "F = np.array([[1, 0, 2*dt, 0],\n",
    "                  [0, 1, 0, dt],\n",
    "                  [0, 0, 1.1, 0],\n",
    "                  [0, 0, 0, 1.1]])\n",
    "#Q = np.diag([1., 1., 1., 1.])*0.04\n",
    "Q = np.array([[2, 0.5, 0, 0],\n",
    "                [0.5, 1, 0, 0],\n",
    "                [0, 0, 1, 0],\n",
    "                [0, 0, 0, 1]]) * 0.003\n",
    "#R = np.diag([1, 1]) * 120#60#100#80\n",
    "R= np.array([[2,0.5],\n",
    "            [0.5,1]])*20.\n",
    "H = np.diag([1, 1])  # 2x4\n",
    "H = np.lib.pad(H, ((0, 0), (0, 2)), 'constant', constant_values=(0))\n",
    "Ps = 0.99\n",
    "\n",
    "MTT = PHDTracker(F,H,Q,R,Ps)\n",
    "\n",
    "of = \"/home/michal/Documents/FIT/DP/dp/src/data/output/test01\"\n",
    "device = \"cuda\" if torch.cuda.is_available() else \"cpu\"\n",
    "#   modes: 0 - S1 - YOLO + YOLO\n",
    "#          1 - S2 - YOLO + SAM\n",
    "#          2 - S3 - Grounded SAM\n",
    "frameProcessor = FrameProcessing(mode=2, device=device)\n",
    "    # VID20240229170542.mp4\n",
    "    # VID20240229170959.mp4\n",
    "    # yt_traffic01.mp4 https://www.youtube.com/watch?v=KBsqQez-O4w&t=30s&ab_channel=NickMartinez\n",
    "    # yt_traffic03.mp4 https://www.youtube.com/watch?v=7WFYiZersNc&ab_channel=AbdulMunaim\n",
    "    # yt_traffic04.mp4 https://www.youtube.com/watch?v=ddPnEk90vLk&ab_channel=IMFootage\n",
    "input = \"/home/michal/Documents/FIT/DP/dp/src/data/input/yt_traffic03.mp4\"\n",
    "vid = VideoMTT(input_video=input, MTT = MTT, frameProcessor=frameProcessor,  chosen_class_ids=[2], output_video=of)\n",
    "\n",
    "d = 40\n",
    "P = np.array([[2*d, d/2, 0, 0],\n",
    "                  [d/2, d, 0, 0],\n",
    "                  [0, 0, d, 0],\n",
    "                  [0, 0, 0, d]])\n",
    "vid.run(P)\n"
   ]
  },
  {
   "cell_type": "code",
   "execution_count": null,
   "id": "b7fa9dbc7229d172",
   "metadata": {},
   "outputs": [],
   "source": []
  },
  {
   "cell_type": "code",
   "execution_count": null,
   "id": "2207833fa63adb98",
   "metadata": {},
   "outputs": [],
   "source": []
  }
 ],
 "metadata": {
  "kernelspec": {
   "display_name": "Python 3 (ipykernel)",
   "language": "python",
   "name": "python3"
  },
  "language_info": {
   "codemirror_mode": {
    "name": "ipython",
    "version": 3
   },
   "file_extension": ".py",
   "mimetype": "text/x-python",
   "name": "python",
   "nbconvert_exporter": "python",
   "pygments_lexer": "ipython3",
   "version": "3.8.10"
  }
 },
 "nbformat": 4,
 "nbformat_minor": 5
}
