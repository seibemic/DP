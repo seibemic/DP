{
 "cells": [
  {
   "cell_type": "code",
   "execution_count": 1,
   "id": "ad3e2418",
   "metadata": {},
   "outputs": [],
   "source": [
    "import numpy as np\n",
    "from confidence_ellipse import cv2_confidence_ellipse\n",
    "import matplotlib.pyplot as plt\n",
    "import cv2"
   ]
  },
  {
   "cell_type": "code",
   "execution_count": null,
   "id": "af2f79f0",
   "metadata": {},
   "outputs": [],
   "source": [
    "Q= np.diag([1., 1., 1., 1.])*0.04\n",
    "Q= np.array([[2,0,0,0],\n",
    "            [0,2,0,0],\n",
    "            [0,-0,2,0],\n",
    "            [0,0,0,1]])*1.\n",
    "m=np.array([0,0,1,1])\n",
    "\n",
    "\n",
    "fig, ax = plt.subplots(figsize=(10, 10))\n",
    "confidence_ellipse([m[0], m[1]], Q, ax=ax,\n",
    "                                   edgecolor=\"red\")\n",
    "ax.set_xlim(-10,10)\n",
    "ax.set_ylim(-10,10)\n",
    "plt.show()"
   ]
  },
  {
   "cell_type": "code",
   "execution_count": 6,
   "id": "18595f3f",
   "metadata": {},
   "outputs": [],
   "source": [
    "# Generate covariance matrix for an almost horizontal ellipse\n",
    "cov_matrix = np.array([[10, 1],\n",
    "                       [0, 2]])*100  # 4x4 matrix, taking only the upper 2x2 portion\n",
    "\n",
    "# Image to draw ellipse on (white background)\n",
    "image = np.ones((200, 200, 3), dtype=np.uint8) * 255\n",
    "\n",
    "# Center of the ellipse\n",
    "center = (100, 100)\n",
    "\n",
    "# Plot ellipse on the image\n",
    "cv2_confidence_ellipse(center, cov_matrix, image)\n",
    "\n",
    "# Display the image with the ellipse\n",
    "cv2.imshow('Ellipse', image)\n",
    "cv2.waitKey(0)\n",
    "cv2.destroyAllWindows()"
   ]
  },
  {
   "cell_type": "code",
   "execution_count": null,
   "id": "d73f3da5",
   "metadata": {},
   "outputs": [],
   "source": []
  }
 ],
 "metadata": {
  "kernelspec": {
   "display_name": "Python 3 (ipykernel)",
   "language": "python",
   "name": "python3"
  },
  "language_info": {
   "codemirror_mode": {
    "name": "ipython",
    "version": 3
   },
   "file_extension": ".py",
   "mimetype": "text/x-python",
   "name": "python",
   "nbconvert_exporter": "python",
   "pygments_lexer": "ipython3",
   "version": "3.8.10"
  }
 },
 "nbformat": 4,
 "nbformat_minor": 5
}
