{
 "cells": [
  {
   "cell_type": "code",
   "execution_count": 1,
   "id": "6841851d",
   "metadata": {},
   "outputs": [],
   "source": [
    "import matplotlib.pyplot as plt\n",
    "import numpy as np\n",
    "from scipy.stats import multivariate_normal as mvn\n",
    "from confidence_ellipse import confidence_ellipse"
   ]
  },
  {
   "cell_type": "code",
   "execution_count": 8,
   "id": "66c936f7",
   "metadata": {},
   "outputs": [],
   "source": [
    "S= np.array([[5,0],[0,5]])\n",
    "z = np.array([0,0])\n",
    "zs = []\n",
    "for i in range(3):\n",
    "    zs.append(np.array([np.random.rand(3), np.random.rand(3)]))"
   ]
  },
  {
   "cell_type": "code",
   "execution_count": 7,
   "id": "8cb71701",
   "metadata": {},
   "outputs": [
    {
     "ename": "TypeError",
     "evalue": "'module' object is not callable",
     "output_type": "error",
     "traceback": [
      "\u001b[0;31m---------------------------------------------------------------------------\u001b[0m",
      "\u001b[0;31mTypeError\u001b[0m                                 Traceback (most recent call last)",
      "Cell \u001b[0;32mIn[7], line 1\u001b[0m\n\u001b[0;32m----> 1\u001b[0m np\u001b[38;5;241m.\u001b[39mrandom()\n",
      "\u001b[0;31mTypeError\u001b[0m: 'module' object is not callable"
     ]
    }
   ],
   "source": [
    "fig, ax = plt."
   ]
  },
  {
   "cell_type": "code",
   "execution_count": null,
   "id": "6c51e347",
   "metadata": {},
   "outputs": [],
   "source": []
  }
 ],
 "metadata": {
  "kernelspec": {
   "display_name": "Python 3 (ipykernel)",
   "language": "python",
   "name": "python3"
  },
  "language_info": {
   "codemirror_mode": {
    "name": "ipython",
    "version": 3
   },
   "file_extension": ".py",
   "mimetype": "text/x-python",
   "name": "python",
   "nbconvert_exporter": "python",
   "pygments_lexer": "ipython3",
   "version": "3.11.5"
  }
 },
 "nbformat": 4,
 "nbformat_minor": 5
}
